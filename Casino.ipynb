{
  "nbformat": 4,
  "nbformat_minor": 0,
  "metadata": {
    "colab": {
      "provenance": [],
      "authorship_tag": "ABX9TyO7TQFjRgg4hMoeNOl5kStu",
      "include_colab_link": true
    },
    "kernelspec": {
      "name": "python3",
      "display_name": "Python 3"
    },
    "language_info": {
      "name": "python"
    }
  },
  "cells": [
    {
      "cell_type": "markdown",
      "metadata": {
        "id": "view-in-github",
        "colab_type": "text"
      },
      "source": [
        "<a href=\"https://colab.research.google.com/github/Cephandrius880/slotmachine/blob/main/Casino.ipynb\" target=\"_parent\"><img src=\"https://colab.research.google.com/assets/colab-badge.svg\" alt=\"Open In Colab\"/></a>"
      ]
    },
    {
      "cell_type": "code",
      "execution_count": null,
      "metadata": {
        "id": "t5hO2TXkTxgv"
      },
      "outputs": [],
      "source": [
        "import numpy as np\n",
        "\n",
        "class RandomNumberGenerator:\n",
        "    def __init__(self, seed, dist=\"uniform\", **kwargs):\n",
        "        self.rng = np.random.default_rng(seed)\n",
        "        self.dist = dist\n",
        "        self.kwargs = kwargs\n",
        "\n",
        "    def next(self):\n",
        "        if self.dist == \"uniform\":\n",
        "            return self.rng.random()\n",
        "        elif self.dist == \"normal\":\n",
        "            mean = self.kwargs.get(\"mean\", 0)\n",
        "            std = self.kwargs.get(\"std\", 1)\n",
        "            return self.rng.normal(loc=mean, scale=std)\n",
        "        elif self.dist == \"int\":\n",
        "            low = self.kwargs.get(\"low\", 0)\n",
        "            high = self.kwargs.get(\"high\", 10)\n",
        "            return self.rng.integers(low, high)\n",
        "\n",
        "def jackpot_check( outcomes):\n",
        "    return outcomes[0]==outcomes[1] and outcomes[1]== outcomes[2]\n",
        "\n",
        "class Player():\n",
        "    def __init__(self,tokens):\n",
        "      self.available_tokens = tokens\n",
        "      self.used_tokens = 0\n",
        "\n",
        "    def gamble(self, slot_machine,n_tokens, game_choice=None):\n",
        "      if self.available_tokens<=n_tokens:\n",
        "        print(f\" You have too little, your current token balance is {self.available_tokens}\")\n",
        "      else:\n",
        "        self.available_tokens -= n_tokens\n",
        "        self.used_tokens += n_tokens\n",
        "\n",
        "      tokens_returned = slot_machine.gamble(n_tokens,game_choice=game_choice)\n",
        "      if tokens_returned > n_tokens:\n",
        "        message= f\" You have won {tokens_returned-n_tokens}!\"\n",
        "      else:\n",
        "        message= f\" You have lost {n_tokens-tokens_returned} \"\n",
        "      print( message)\n",
        "      self.available_tokens += tokens_returned\n",
        "\n",
        "\n",
        "class SimpleSlotMachine():\n",
        "    def __init__(self,n_slots=3,slot_range=range(1,11)):\n",
        "      self.slots = np.zeros(n_slots)\n",
        "      self.slot_range = slot_range\n",
        "      self.crank = [RandomNumberGenerator(i,dist='int',\n",
        "                                                   low=min(self.slot_range),\n",
        "                                                   high=max(self.slot_range))\n",
        "      for i in range(n_slots)]\n",
        "      self.cost_1_roll=2\n",
        "      self.jackpot_factor=10\n",
        "\n",
        "    def roll(self):\n",
        "         outcomes = [x.next() for x in self.crank]\n",
        "         return outcomes\n",
        "\n",
        "    def gamble(self,n_tokens,game_choice=None):\n",
        "      n_rolls = n_tokens//self.cost_1_roll\n",
        "      tokens_returned = 0\n",
        "      for roll in range(n_rolls):\n",
        "        outcomes = self.roll()\n",
        "        display = ' - '.join([str(x) for x in outcomes])\n",
        "        print(f'The results are in! You have rolled {display}!')\n",
        "        if jackpot_check(outcomes):\n",
        "          tokens_returned = n_tokens * self.jackpot_factor\n",
        "          message = (\"Jackpot!\")\n",
        "          break\n",
        "        else:\n",
        "          message = ('Try again!')\n",
        "\n",
        "        print(message)\n",
        "      return tokens_returned\n",
        "\n",
        "\n"
      ]
    },
    {
      "cell_type": "code",
      "source": [
        "slot_machine = SimpleSlotMachine(3)\n",
        "slot_machine.gamble(6)\n",
        "\n",
        "player = Player(100)"
      ],
      "metadata": {
        "colab": {
          "base_uri": "https://localhost:8080/"
        },
        "id": "qDws2fLGc_hm",
        "outputId": "200f606c-3350-4f2a-ba84-92a571be2284"
      },
      "execution_count": null,
      "outputs": [
        {
          "output_type": "stream",
          "name": "stdout",
          "text": [
            "The results are in! You have rolled 8 - 5 - 8!\n",
            "Try again!\n",
            "The results are in! You have rolled 6 - 5 - 3!\n",
            "Try again!\n",
            "The results are in! You have rolled 5 - 7 - 1!\n",
            "Try again!\n"
          ]
        }
      ]
    },
    {
      "cell_type": "code",
      "source": [
        "test_gen=RandomNumberGenerator(42,dist='int',low=1,high=5)\n",
        "\n",
        "print(test_gen.next())\n",
        "print(test_gen.next())\n",
        "print(test_gen.next())"
      ],
      "metadata": {
        "colab": {
          "base_uri": "https://localhost:8080/"
        },
        "id": "dTtTUlyZZhBr",
        "outputId": "7ce69458-6d7a-416f-85eb-fed209954af3"
      },
      "execution_count": null,
      "outputs": [
        {
          "output_type": "stream",
          "name": "stdout",
          "text": [
            "1\n",
            "4\n",
            "3\n"
          ]
        }
      ]
    }
  ]
}